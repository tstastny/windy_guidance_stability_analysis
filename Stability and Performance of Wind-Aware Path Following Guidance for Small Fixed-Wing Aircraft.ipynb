{
 "cells": [
  {
   "cell_type": "markdown",
   "metadata": {},
   "source": [
    "# Stability and Performance of Wind-Aware Path Following Guidance for Small Fixed-Wing Aircraft\n",
    "Author: Thomas Stastny ([tstastny@ethz.ch](mailto:tstastny@ethz.ch))\n",
    "\n",
    "This notebook contains scripts useful for the analysis of stability properties for a wind-aware nonlinear differential geometric path following guidance law for small fixed-wing unmanned aircraft."
   ]
  },
  {
   "cell_type": "markdown",
   "metadata": {},
   "source": [
    "## Setup"
   ]
  },
  {
   "cell_type": "code",
   "execution_count": 1,
   "metadata": {},
   "outputs": [],
   "source": [
    "import numpy as np\n",
    "import matplotlib.pyplot as plt\n",
    "import matplotlib.gridspec as gridspec\n",
    "from scipy import optimize\n",
    "plt.rcParams.update({\"text.usetex\": True})"
   ]
  },
  {
   "cell_type": "code",
   "execution_count": 2,
   "metadata": {},
   "outputs": [],
   "source": [
    "# functions\n",
    "# ---------\n",
    "\n",
    "\n",
    "# function to evaluate derivative of f w.r.t. path orientation angle lP\n",
    "def eval_df(l, a):\n",
    "    # inputs:\n",
    "    # l         path orientation angle\n",
    "    # a         wind ratio\n",
    "    # outputs:\n",
    "    # df/dl\n",
    "\n",
    "    sinl = np.sin(l)\n",
    "    sin2l = sinl*sinl\n",
    "    cosl = np.cos(l)\n",
    "    a2 = a*a\n",
    "    sin4l = sin2l*sin2l\n",
    "    one_m_a2sin2l = 1 - a2 * sin2l\n",
    "    one_m_a2sin2l_3_2 = one_m_a2sin2l**(3/2)\n",
    "\n",
    "    if a == 1:\n",
    "        return 1 - 2 * sin2l + sin4l\n",
    "    else:\n",
    "        return a*(a*(a2 * sin4l - 2 * sin2l + 1) + cosl * one_m_a2sin2l_3_2) / one_m_a2sin2l_3_2\n",
    "\n",
    "\n",
    "# function to evaluate f\n",
    "def eval_f(l, a):\n",
    "    # inputs:\n",
    "    # l         path orientation angle\n",
    "    # a         wind ratio\n",
    "    # outputs:\n",
    "    # f\n",
    "\n",
    "    sinl = np.sin(l)\n",
    "    sin2l = sinl * sinl\n",
    "    cosl = np.cos(l)\n",
    "    a2 = a * a\n",
    "    a2sin2l = a2 * sin2l\n",
    "\n",
    "    if a2sin2l >= 1.0:\n",
    "        return 2\n",
    "    else:\n",
    "        return a2 * sinl * cosl / np.sqrt(1 - a2sin2l) + a * sinl\n",
    "\n",
    "\n",
    "# function to evaluate critical f approximation\n",
    "def eval_f_crit_analytic_approx(a):\n",
    "    # inputs:\n",
    "    # a         wind ratio\n",
    "    # outputs:\n",
    "    # fcrit\n",
    "\n",
    "    return 2*(1 - np.sqrt(1 - a))\n",
    "\n",
    "\n",
    "def eval_sum_sq_f_crit_approx_err(c, x, e):\n",
    "    res = e + x.transpose().dot(c)\n",
    "    return res.dot(res)"
   ]
  },
  {
   "cell_type": "code",
   "execution_count": 3,
   "metadata": {},
   "outputs": [],
   "source": [
    "# allocate arrays\n",
    "# ---------------\n",
    "\n",
    "len_data = 501\n",
    "\n",
    "wrd1 = np.linspace(0, 0.995, len_data - 100)\n",
    "wrd2 = np.linspace(0.995, 1, 101)\n",
    "wind_ratio_data = np.concatenate((wrd1[:len_data - 101], wrd2))\n",
    "\n",
    "path_ori_crit_num_sol = np.zeros(len_data)      # numerical solution of critical path orientation per wind ratio\n",
    "\n",
    "f_crit_analytic_approx = np.zeros(len_data)     # approximation of critical f value per wind ratio\n",
    "f_crit_approx2_sol = np.zeros(len_data)         # critical f value per wind ratio\n",
    "f_crit_num_sol = np.zeros(len_data)             # numerical solution of critical f value per wind ratio"
   ]
  },
  {
   "cell_type": "markdown",
   "metadata": {},
   "source": [
    "## Solutions and Approximations\n",
    "### Numerically solve for critical path orientation ${\\lambda_P}^\\star$\n",
    "numerically solve for path orientation l at given wind ratio a which maximizes f\n",
    "fun = df/dl(l,a)\n",
    "args = (a)"
   ]
  },
  {
   "cell_type": "code",
   "execution_count": 4,
   "metadata": {},
   "outputs": [],
   "source": [
    "verbose_sol_output = False  # enable to display each solution status and value\n",
    "\n",
    "a_solution_failed = False\n",
    "for i in range(len_data):\n",
    "    sol = optimize.root(eval_df, np.pi/2*0.99, args=(wind_ratio_data[i],))\n",
    "    path_ori_crit_num_sol[i] = sol.x\n",
    "    if verbose_sol_output:\n",
    "        print(f'{wind_ratio_data[i]:.2f}' + ':' + str(sol.success) + '; sol = ' + str(sol.x))\n",
    "    if not sol.success:\n",
    "        a_solution_failed = True\n",
    "\n",
    "if a_solution_failed:\n",
    "    print('ERROR: One ore more numerical solutions failed, enable verbose_sol_output and re-run cell.')\n",
    "\n",
    "# df(a=0) = 0, define a crit orientation at 0 which follows the trend of the other solutions\n",
    "path_ori_crit_num_sol[0] = np.pi/2"
   ]
  },
  {
   "cell_type": "markdown",
   "metadata": {},
   "source": [
    "### Numerical Solution $f^\\star$"
   ]
  },
  {
   "cell_type": "code",
   "execution_count": 5,
   "metadata": {},
   "outputs": [],
   "source": [
    "for i in range(len_data):\n",
    "    f_crit_num_sol[i] = eval_f(path_ori_crit_num_sol[i], wind_ratio_data[i])"
   ]
  },
  {
   "cell_type": "markdown",
   "metadata": {},
   "source": [
    "### Approximation 1 $\\tilde{f}_1^\\star$ "
   ]
  },
  {
   "cell_type": "code",
   "execution_count": 6,
   "metadata": {},
   "outputs": [],
   "source": [
    "for i in range(len_data):\n",
    "    f_crit_analytic_approx[i] = eval_f_crit_analytic_approx(wind_ratio_data[i])\n",
    "\n",
    "f_crit_analytic_approx_err = f_crit_analytic_approx - f_crit_num_sol"
   ]
  },
  {
   "cell_type": "markdown",
   "metadata": {},
   "source": [
    "### Approximation 2 $\\tilde{f}_2^\\star$ \n",
    "Fit a 3rd order polynomial $p^{(3)} = \\left({\\mathbf{\\alpha}_W}^{\\circ 3}, {\\mathbf{\\alpha}_W}^{\\circ 2}, {\\mathbf{\\alpha}_W}^{\\circ 1}, {\\mathbf{\\alpha}_W}^{\\circ 0}\\right) \\mathbf{c}$, where $\\mathbf{c}=\\left(c_3,c_2,c_1,c_0\\right)^T$ are the polynomial coefficients, to our analytic approximation error $\\tilde{f}_{1,\\text{err}}^\\star$.\n",
    "\n",
    "$\\begin{equation}\n",
    "\\min_{\\mathbf{c}} \\left(\\tilde{f}^\\star_{1,\\text{err}} + p^{(3)}\\left(\\mathbf{c}, \\mathbf{\\alpha}_W\\right)\\right)^T \\left(\\tilde{f}^\\star_{1,\\text{err}} + p^{(3)}\\left(\\mathbf{c},\\mathbf{\\alpha}_W\\right)\\right)\n",
    "\\end{equation}$\n",
    "\n",
    "$\\begin{align}\n",
    "&s.t. & p^{(3)}\\left(\\mathbf{c}, 0\\right) &= 0 \\\\\n",
    "& & p^{(3)}\\left(\\mathbf{c}, 1\\right) &= 0\n",
    "\\end{align}$\n",
    "\n",
    "NOTE: (1) implies c0 = 0, therefore c0 and (1) are omitted from the optimization problem"
   ]
  },
  {
   "cell_type": "code",
   "execution_count": 7,
   "metadata": {},
   "outputs": [
    {
     "name": "stdout",
     "output_type": "stream",
     "text": [
      "     fun: 5.622576748976453e-05\n",
      "     jac: array([0.07341382, 0.07341382, 0.07341382])\n",
      " message: 'Optimization terminated successfully'\n",
      "    nfev: 18\n",
      "     nit: 4\n",
      "    njev: 4\n",
      "  status: 0\n",
      " success: True\n",
      "       x: array([ 0.1705916 , -0.15937888, -0.01121272])\n"
     ]
    }
   ],
   "source": [
    "wr321 = np.array([wind_ratio_data**3, wind_ratio_data**2, wind_ratio_data])\n",
    "c0 = -np.array([-0.32313744, 0.31651312, 0.00662432])*0.55                          # coefficients initial guess\n",
    "cons = ({'type': 'eq', 'fun': lambda c, x: x[:, -1].dot(c), 'args': (wr321,)})      # equality constraint (2)\n",
    "\n",
    "# optimize\n",
    "c_sol = optimize.minimize(eval_sum_sq_f_crit_approx_err, c0, args=(wr321, f_crit_analytic_approx_err), constraints=cons)\n",
    "print(c_sol)\n",
    "\n",
    "# calculate the polynomial result and add it to the analytic approximation\n",
    "poly_fun = np.poly1d(np.concatenate((c_sol.x, np.array([0]))))\n",
    "f_crit_analytic_poly_approx = f_crit_analytic_approx + poly_fun(wind_ratio_data)\n",
    "f_crit_analytic_poly_approx_err = f_crit_analytic_poly_approx - f_crit_num_sol"
   ]
  },
  {
   "cell_type": "markdown",
   "metadata": {},
   "source": [
    "## Plotting\n",
    "Here we plot the numerical solution for the critical path orientation angle ${\\lambda_P}^\\star$ as well as the numerical solution and approximations of the critical function value $f^\\star$ determined above."
   ]
  },
  {
   "cell_type": "code",
   "execution_count": 8,
   "metadata": {},
   "outputs": [
    {
     "data": {
      "image/png": "[encoded data removed]",
      "text/plain": [
       "<Figure size 1080x504 with 3 Axes>"
      ]
     },
     "metadata": {
      "needs_background": "light"
     },
     "output_type": "display_data"
    }
   ],
   "source": [
    "params = {'axes.titlesize': 20,\n",
    "          'axes.labelsize': 16,\n",
    "          'legend.fontsize': 14}\n",
    "plt.rcParams.update(params)\n",
    "\n",
    "plot_lw = 2\n",
    "\n",
    "fig = plt.figure(figsize=(15, 7))\n",
    "spec = gridspec.GridSpec(ncols=2, nrows=3, figure=fig)\n",
    "\n",
    "ax1 = fig.add_subplot(spec[:, 0])\n",
    "ax2 = fig.add_subplot(spec[:2, 1])\n",
    "ax3 = fig.add_subplot(spec[2, 1])\n",
    "\n",
    "ax1.plot(wind_ratio_data, np.rad2deg(path_ori_crit_num_sol), linewidth=plot_lw, color='tab:blue')\n",
    "ax1.set_ylabel(r'${\\lambda_P}^\\star$ [deg]')\n",
    "ax1.set_title(r'Critical Path Orientation')\n",
    "ax1.set_xlabel(r'Wind Ratio $\\alpha_W$')\n",
    "\n",
    "ax2.plot(wind_ratio_data, f_crit_num_sol, linewidth=plot_lw, color='tab:blue', label=r'Numerical Solution')\n",
    "ax2.plot(wind_ratio_data, f_crit_analytic_approx, '--', linewidth=plot_lw, color='tab:orange', label=r'Approx. Analytic Solution')\n",
    "ax2.plot(wind_ratio_data, f_crit_analytic_poly_approx, '--', linewidth=plot_lw, color='lightgreen', label=r'Approx. Analytic + Poly3 Solution')\n",
    "ax2.set_ylabel(r'$f^\\star$')\n",
    "ax2.set_title(r'Critical Function Value')\n",
    "ax2.legend(loc=\"upper left\")\n",
    "\n",
    "ax3.plot([wind_ratio_data[i] for i in [0, -1]], [0, 0], linewidth=plot_lw, color='tab:blue')\n",
    "ax3.plot(wind_ratio_data, f_crit_analytic_approx_err, linewidth=plot_lw, color='tab:orange')\n",
    "ax3.plot(wind_ratio_data, f_crit_analytic_poly_approx_err, linewidth=plot_lw, color='lightgreen')\n",
    "ax3.set_ylabel(r'$f^\\star$ Error')\n",
    "ax3.set_xlabel(r'Wind Ratio $\\alpha_W$')\n",
    "\n",
    "plt.show()\n"
   ]
  },
  {
   "cell_type": "code",
   "execution_count": null,
   "metadata": {},
   "outputs": [],
   "source": []
  }
 ],
 "metadata": {
  "kernelspec": {
   "display_name": "Python 3",
   "language": "python",
   "name": "python3"
  },
  "language_info": {
   "codemirror_mode": {
    "name": "ipython",
    "version": 3
   },
   "file_extension": ".py",
   "mimetype": "text/x-python",
   "name": "python",
   "nbconvert_exporter": "python",
   "pygments_lexer": "ipython3",
   "version": "3.8.5"
  }
 },
 "nbformat": 4,
 "nbformat_minor": 4
}
