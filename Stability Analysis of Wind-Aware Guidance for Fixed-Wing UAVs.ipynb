{
 "cells": [
  {
   "cell_type": "code",
   "execution_count": 1,
   "metadata": {
    "scrolled": true
   },
   "outputs": [],
   "source": [
    "# sympy\n",
    "import sympy as sp\n",
    "from IPython.display import display, Math\n",
    "sp.init_printing()\n",
    "\n",
    "# numpy\n",
    "import numpy as np\n",
    "\n",
    "# matplotlib\n",
    "import matplotlib.pyplot as plt\n",
    "import matplotlib.gridspec as gridspec\n",
    "\n",
    "plt.style.use('seaborn-whitegrid')\n",
    "plt.rcParams.update({\"text.usetex\": True})\n",
    "plt.rcParams.update({'legend.frameon': True,\n",
    "                     'legend.framealpha': 1,\n",
    "                     'legend.facecolor': 'white',\n",
    "                     'axes.titlesize': 20,\n",
    "                     'axes.labelsize': 16,\n",
    "                     'legend.fontsize': 14,\n",
    "                     'axes.edgecolor': 'black'})"
   ]
  },
  {
   "cell_type": "markdown",
   "metadata": {},
   "source": [
    "# Symbolic Derivation\n",
    "\n",
    "## Wind-Aware Control Law"
   ]
  },
  {
   "cell_type": "code",
   "execution_count": 2,
   "metadata": {},
   "outputs": [
    {
     "name": "stdout",
     "output_type": "stream",
     "text": [
      "Jacobian:\n"
     ]
    },
    {
     "data": {
      "text/latex": [
       "$\\displaystyle \\cfrac{\\partial\\dot{\\eta}}{\\partial\\eta} = - k + \\frac{\\pi}{T}$"
      ],
      "text/plain": [
       "<IPython.core.display.Math object>"
      ]
     },
     "metadata": {},
     "output_type": "display_data"
    },
    {
     "data": {
      "text/latex": [
       "$\\displaystyle \\cfrac{\\partial\\dot{\\eta}}{\\partial\\beta} = \\frac{v_{G,P} \\left(\\kappa_{P} v_{G,P} \\tan{\\left(x_{P} \\right)} - \\frac{\\pi}{T}\\right)}{v_{A} \\cos{\\left(x_{P} \\right)}}$"
      ],
      "text/plain": [
       "<IPython.core.display.Math object>"
      ]
     },
     "metadata": {},
     "output_type": "display_data"
    },
    {
     "data": {
      "text/latex": [
       "$\\displaystyle \\cfrac{\\partial\\dot{\\beta}}{\\partial\\eta} = \\frac{\\pi v_{A} \\cos{\\left(x_{P} \\right)}}{T v_{G,P}}$"
      ],
      "text/plain": [
       "<IPython.core.display.Math object>"
      ]
     },
     "metadata": {},
     "output_type": "display_data"
    },
    {
     "data": {
      "text/latex": [
       "$\\displaystyle \\cfrac{\\partial\\dot{\\beta}}{\\partial\\beta} = \\kappa_{P} v_{G,P} \\tan{\\left(x_{P} \\right)} - \\frac{\\pi}{T}$"
      ],
      "text/plain": [
       "<IPython.core.display.Math object>"
      ]
     },
     "metadata": {},
     "output_type": "display_data"
    },
    {
     "name": "stdout",
     "output_type": "stream",
     "text": [
      "Collect terms:\n"
     ]
    },
    {
     "data": {
      "text/latex": [
       "$\\displaystyle a = \\frac{v_{G,P}}{v_{A} \\cos{\\left(x_{P} \\right)}}$"
      ],
      "text/plain": [
       "<IPython.core.display.Math object>"
      ]
     },
     "metadata": {},
     "output_type": "display_data"
    },
    {
     "data": {
      "text/latex": [
       "$\\displaystyle b = \\kappa_{P} v_{G,P} \\tan{\\left(x_{P} \\right)}$"
      ],
      "text/plain": [
       "<IPython.core.display.Math object>"
      ]
     },
     "metadata": {},
     "output_type": "display_data"
    },
    {
     "name": "stdout",
     "output_type": "stream",
     "text": [
      "Condensed Jacobian:\n"
     ]
    },
    {
     "data": {
      "text/latex": [
       "$\\displaystyle \\left[\\begin{matrix}\\cfrac{\\partial\\dot{\\eta}}{\\partial\\eta} & \\cfrac{\\partial\\dot{\\eta}}{\\partial\\beta}\\\\\\cfrac{\\partial\\dot{\\beta}}{\\partial\\eta} & \\cfrac{\\partial\\dot{\\beta}}{\\partial\\beta}\\end{matrix}\\right] = \\left[\\begin{matrix}- k + \\frac{\\pi}{T} & a \\left(b - \\frac{\\pi}{T}\\right)\\\\\\frac{\\pi}{T a} & b - \\frac{\\pi}{T}\\end{matrix}\\right]$"
      ],
      "text/plain": [
       "<IPython.core.display.Math object>"
      ]
     },
     "metadata": {},
     "output_type": "display_data"
    }
   ],
   "source": [
    "k = sp.symbols('k', real=True, positive=True)\n",
    "T = sp.symbols('T', real=True, positive=True)\n",
    "vGP = sp.symbols('v_{G\\,P}', real=True, positive=True)\n",
    "xP = sp.symbols('x_P', real=True)\n",
    "vA = sp.symbols('v_A', real=True, positive=True)\n",
    "vW = sp.symbols('v_W', real=True, positive=True)\n",
    "kapP = sp.symbols('\\\\kappa_P', real=True, positive=True)\n",
    "lP = sp.symbols('\\\\lambda_P', real=True)\n",
    "\n",
    "# ground to air projection speed ratio\n",
    "a = sp.symbols('a', real=True)\n",
    "a_expr = vGP / vA / sp.cos(xP)\n",
    "\n",
    "# wind-modulated turn rate\n",
    "b = sp.symbols('b', real=True)\n",
    "b_expr = vGP * kapP * sp.tan(xP)\n",
    "\n",
    "# linearized on-track dynamics\n",
    "d_etadot_d_eta = sp.symbols('\\\\cfrac{\\\\partial\\\\dot{\\\\eta}}{\\\\partial\\\\eta}')\n",
    "d_etadot_d_beta = sp.symbols('\\\\cfrac{\\\\partial\\\\dot{\\\\eta}}{\\\\partial\\\\beta}')\n",
    "d_betadot_d_eta = sp.symbols('\\\\cfrac{\\\\partial\\\\dot{\\\\beta}}{\\\\partial\\\\eta}')\n",
    "d_betadot_d_beta = sp.symbols('\\\\cfrac{\\\\partial\\\\dot{\\\\beta}}{\\\\partial\\\\beta}')\n",
    "d_etadot_d_eta_expr = -k + sp.pi/T\n",
    "d_etadot_d_beta_expr = a * ( b - sp.pi / T )\n",
    "d_betadot_d_eta_expr = sp.pi / T / a\n",
    "d_betadot_d_beta_expr = b - sp.pi / T\n",
    "\n",
    "print('Jacobian:')\n",
    "display(Math('%s = %s' %(sp.latex(d_etadot_d_eta), sp.latex(d_etadot_d_eta_expr.subs({b:b_expr,a:a_expr})))))\n",
    "display(Math('%s = %s' %(sp.latex(d_etadot_d_beta), sp.latex(d_etadot_d_beta_expr.subs({b:b_expr,a:a_expr})))))\n",
    "display(Math('%s = %s' %(sp.latex(d_betadot_d_eta), sp.latex(d_betadot_d_eta_expr.subs({b:b_expr,a:a_expr})))))\n",
    "display(Math('%s = %s' %(sp.latex(d_betadot_d_beta), sp.latex(d_betadot_d_beta_expr.subs({b:b_expr,a:a_expr})))))\n",
    "\n",
    "print('Collect terms:')\n",
    "display(Math('%s = %s' %(sp.latex(a), sp.latex(a_expr))))\n",
    "display(Math('%s = %s' %(sp.latex(b), sp.latex(b_expr))))\n",
    "\n",
    "print('Condensed Jacobian:')\n",
    "AMatrix = sp.Matrix([[d_etadot_d_eta, d_etadot_d_beta], [d_betadot_d_eta, d_betadot_d_beta]])\n",
    "AMatrix_expr = sp.Matrix([[d_etadot_d_eta_expr, d_etadot_d_beta_expr], [d_betadot_d_eta_expr, d_betadot_d_beta_expr]])\n",
    "\n",
    "display(Math('%s = %s' %(sp.latex(AMatrix), sp.latex(AMatrix_expr))))\n"
   ]
  },
  {
   "cell_type": "code",
   "execution_count": 3,
   "metadata": {},
   "outputs": [
    {
     "name": "stdout",
     "output_type": "stream",
     "text": [
      "Characteristic equation:\n"
     ]
    },
    {
     "data": {
      "text/latex": [
       "$\\displaystyle s^{2} + (- b + k)s + (- b k + \\frac{\\pi k}{T})$"
      ],
      "text/plain": [
       "<IPython.core.display.Math object>"
      ]
     },
     "metadata": {},
     "output_type": "display_data"
    },
    {
     "name": "stdout",
     "output_type": "stream",
     "text": [
      "Natural frequency:\n"
     ]
    },
    {
     "data": {
      "text/latex": [
       "$\\displaystyle \\omega_{n} = \\sqrt{- b k + \\frac{\\pi k}{T}}$"
      ],
      "text/plain": [
       "<IPython.core.display.Math object>"
      ]
     },
     "metadata": {},
     "output_type": "display_data"
    },
    {
     "name": "stdout",
     "output_type": "stream",
     "text": [
      "Damping ratio:\n"
     ]
    },
    {
     "data": {
      "text/latex": [
       "$\\displaystyle \\zeta = \\frac{\\sqrt{T} \\left(- b + k\\right)}{2 \\sqrt{k} \\sqrt{- T b + \\pi}}$"
      ],
      "text/plain": [
       "<IPython.core.display.Math object>"
      ]
     },
     "metadata": {},
     "output_type": "display_data"
    }
   ],
   "source": [
    "# characteristic equation\n",
    "s = sp.symbols('s')\n",
    "s_m_A = sp.Matrix([[s,0],[0,s]]) - AMatrix_expr\n",
    "char_eq = s_m_A.det()\n",
    "\n",
    "print('Characteristic equation:')\n",
    "# display(expand(char_eq))\n",
    "\n",
    "# collect coeffs\n",
    "char_eq_poly = sp.poly(char_eq, s)\n",
    "char_eq_coeffs = char_eq_poly.coeffs()\n",
    "\n",
    "display(Math('%s + (%s)s + (%s)' %(sp.latex(s**2),\n",
    "                                   sp.latex(sp.expand(char_eq_coeffs[1])),\n",
    "                                   sp.latex(sp.expand(char_eq_coeffs[2])))))\n",
    "\n",
    "# natural frequency\n",
    "print('Natural frequency:')\n",
    "omn = sp.symbols('\\\\omega_n')\n",
    "omn_expr = sp.sqrt(sp.expand(char_eq_coeffs[2]))\n",
    "display(Math('%s = %s' %(sp.latex(omn), sp.latex(omn_expr))))\n",
    "\n",
    "# damping ratio\n",
    "print('Damping ratio:')\n",
    "zeta = sp.symbols('\\\\zeta')\n",
    "zeta_expr = sp.simplify(sp.expand(char_eq_coeffs[1] / 2 / omn_expr))\n",
    "display(Math('%s = %s' %(sp.latex(zeta), sp.latex(zeta_expr))))"
   ]
  },
  {
   "cell_type": "code",
   "execution_count": 4,
   "metadata": {
    "scrolled": true
   },
   "outputs": [
    {
     "data": {
      "text/latex": [
       "$\\displaystyle k_{0} = 2 \\omega_{0} \\zeta_{0}$"
      ],
      "text/plain": [
       "<IPython.core.display.Math object>"
      ]
     },
     "metadata": {},
     "output_type": "display_data"
    },
    {
     "data": {
      "text/latex": [
       "$\\displaystyle T_{0} = \\frac{2 \\pi \\zeta_{0}}{\\omega_{0}}$"
      ],
      "text/plain": [
       "<IPython.core.display.Math object>"
      ]
     },
     "metadata": {},
     "output_type": "display_data"
    },
    {
     "data": {
      "text/latex": [
       "$\\displaystyle \\omega_{n}(k=k_{0},T=T_{0},b=0) = \\frac{\\sqrt{\\pi} \\sqrt{k_{0}}}{\\sqrt{T_{0}}} = \\omega_{0}$"
      ],
      "text/plain": [
       "<IPython.core.display.Math object>"
      ]
     },
     "metadata": {},
     "output_type": "display_data"
    },
    {
     "data": {
      "text/latex": [
       "$\\displaystyle \\zeta(k=k_{0},T=T_{0},b=0) = \\frac{\\sqrt{T_{0}} \\sqrt{k_{0}}}{2 \\sqrt{\\pi}} = \\zeta_{0}$"
      ],
      "text/plain": [
       "<IPython.core.display.Math object>"
      ]
     },
     "metadata": {},
     "output_type": "display_data"
    }
   ],
   "source": [
    "# nominal gains (zero wind case)\n",
    "\n",
    "om0 = sp.symbols('\\\\omega_0', positive = True, real = True)\n",
    "zeta0 = sp.symbols('\\\\zeta_0', positive = True, real = True)\n",
    "\n",
    "k0 = sp.symbols('k_0', positive = True, real = True)\n",
    "k0_expr = 2 * zeta0 * om0\n",
    "display(Math('%s = %s' %(sp.latex(k0), sp.latex(k0_expr))))\n",
    "\n",
    "T0 = sp.symbols('T_0', positive = True, real = True)\n",
    "T0_expr = 2 * sp.pi / om0 * zeta0\n",
    "display(Math('%s = %s' %(sp.latex(T0), sp.latex(T0_expr))))\n",
    "\n",
    "# plug in and confirm it works when wind freq = 0\n",
    "display(Math('%s(%s=%s,%s=%s,%s=0) = %s = %s' %(sp.latex(omn),sp.latex(k),sp.latex(k0), \\\n",
    "                                                sp.latex(T),sp.latex(T0),sp.latex(b), \\\n",
    "                                                sp.latex(omn_expr.subs({b:0, k:k0, T:T0})), \\\n",
    "                                                sp.latex(omn_expr.subs({b:0, k:k0_expr, T:T0_expr})))))\n",
    "display(Math('%s(%s=%s,%s=%s,%s=0) = %s = %s' %(sp.latex(zeta),sp.latex(k),sp.latex(k0), \\\n",
    "                                                sp.latex(T),sp.latex(T0),sp.latex(b), \\\n",
    "                                                sp.latex(zeta_expr.subs({b:0, k:k0, T:T0})), \\\n",
    "                                                sp.latex(zeta_expr.subs({b:0, k:k0_expr, T:T0_expr})))))"
   ]
  },
  {
   "cell_type": "markdown",
   "metadata": {},
   "source": [
    "## Period and Damping in Terms of Nominal Tuning"
   ]
  },
  {
   "cell_type": "code",
   "execution_count": 5,
   "metadata": {},
   "outputs": [
    {
     "name": "stdout",
     "output_type": "stream",
     "text": [
      "Period\n"
     ]
    },
    {
     "data": {
      "text/latex": [
       "$\\displaystyle P = \\frac{2 \\pi}{\\sqrt{- b k + \\frac{\\pi k}{T}}}$"
      ],
      "text/plain": [
       "<IPython.core.display.Math object>"
      ]
     },
     "metadata": {},
     "output_type": "display_data"
    },
    {
     "ename": "NameError",
     "evalue": "name 'P0' is not defined",
     "output_type": "error",
     "traceback": [
      "\u001b[0;31m---------------------------------------------------------------------------\u001b[0m",
      "\u001b[0;31mNameError\u001b[0m                                 Traceback (most recent call last)",
      "\u001b[0;32m<ipython-input-5-942fec91630b>\u001b[0m in \u001b[0;36m<module>\u001b[0;34m\u001b[0m\n\u001b[1;32m     10\u001b[0m \u001b[0mdisplay\u001b[0m\u001b[0;34m(\u001b[0m\u001b[0mMath\u001b[0m\u001b[0;34m(\u001b[0m\u001b[0;34m'%s = %s'\u001b[0m \u001b[0;34m%\u001b[0m\u001b[0;34m(\u001b[0m\u001b[0msp\u001b[0m\u001b[0;34m.\u001b[0m\u001b[0mlatex\u001b[0m\u001b[0;34m(\u001b[0m\u001b[0mP\u001b[0m\u001b[0;34m)\u001b[0m\u001b[0;34m,\u001b[0m \u001b[0msp\u001b[0m\u001b[0;34m.\u001b[0m\u001b[0mlatex\u001b[0m\u001b[0;34m(\u001b[0m\u001b[0mP_expr\u001b[0m\u001b[0;34m)\u001b[0m\u001b[0;34m)\u001b[0m\u001b[0;34m)\u001b[0m\u001b[0;34m)\u001b[0m\u001b[0;34m\u001b[0m\u001b[0;34m\u001b[0m\u001b[0m\n\u001b[1;32m     11\u001b[0m \u001b[0;34m\u001b[0m\u001b[0m\n\u001b[0;32m---> 12\u001b[0;31m \u001b[0mP_expr_sub\u001b[0m \u001b[0;34m=\u001b[0m \u001b[0mP_expr\u001b[0m\u001b[0;34m.\u001b[0m\u001b[0msubs\u001b[0m\u001b[0;34m(\u001b[0m\u001b[0;34m{\u001b[0m\u001b[0mk\u001b[0m\u001b[0;34m:\u001b[0m\u001b[0mk0_expr\u001b[0m\u001b[0;34m.\u001b[0m\u001b[0msubs\u001b[0m\u001b[0;34m(\u001b[0m\u001b[0mom0\u001b[0m\u001b[0;34m,\u001b[0m \u001b[0;36m2\u001b[0m \u001b[0;34m*\u001b[0m \u001b[0msp\u001b[0m\u001b[0;34m.\u001b[0m\u001b[0mpi\u001b[0m \u001b[0;34m/\u001b[0m \u001b[0mP0\u001b[0m\u001b[0;34m)\u001b[0m\u001b[0;34m,\u001b[0m \u001b[0mT\u001b[0m\u001b[0;34m:\u001b[0m\u001b[0mT0_expr\u001b[0m\u001b[0;34m.\u001b[0m\u001b[0msubs\u001b[0m\u001b[0;34m(\u001b[0m\u001b[0mom0\u001b[0m\u001b[0;34m,\u001b[0m \u001b[0;36m2\u001b[0m \u001b[0;34m*\u001b[0m \u001b[0msp\u001b[0m\u001b[0;34m.\u001b[0m\u001b[0mpi\u001b[0m \u001b[0;34m/\u001b[0m \u001b[0mP0\u001b[0m\u001b[0;34m)\u001b[0m\u001b[0;34m}\u001b[0m\u001b[0;34m)\u001b[0m\u001b[0;34m\u001b[0m\u001b[0;34m\u001b[0m\u001b[0m\n\u001b[0m\u001b[1;32m     13\u001b[0m \u001b[0;34m\u001b[0m\u001b[0m\n\u001b[1;32m     14\u001b[0m \u001b[0mdisplay\u001b[0m\u001b[0;34m(\u001b[0m\u001b[0mMath\u001b[0m\u001b[0;34m(\u001b[0m\u001b[0;34m'%s = %s'\u001b[0m \u001b[0;34m%\u001b[0m\u001b[0;34m(\u001b[0m\u001b[0msp\u001b[0m\u001b[0;34m.\u001b[0m\u001b[0mlatex\u001b[0m\u001b[0;34m(\u001b[0m\u001b[0mP\u001b[0m\u001b[0;34m)\u001b[0m\u001b[0;34m,\u001b[0m \u001b[0msp\u001b[0m\u001b[0;34m.\u001b[0m\u001b[0mlatex\u001b[0m\u001b[0;34m(\u001b[0m\u001b[0mP_expr_sub\u001b[0m\u001b[0;34m)\u001b[0m\u001b[0;34m)\u001b[0m\u001b[0;34m)\u001b[0m\u001b[0;34m)\u001b[0m\u001b[0;34m\u001b[0m\u001b[0;34m\u001b[0m\u001b[0m\n",
      "\u001b[0;31mNameError\u001b[0m: name 'P0' is not defined"
     ]
    }
   ],
   "source": [
    "# subtitute nominal tuning\n",
    "\n",
    "# Period\n",
    "\n",
    "P = sp.symbols('P')\n",
    "P_expr = 2 * sp.pi / omn_expr\n",
    "\n",
    "print('Period')\n",
    "\n",
    "display(Math('%s = %s' %(sp.latex(P), sp.latex(P_expr))))\n",
    "\n",
    "P_expr_sub = P_expr.subs({k:k0_expr.subs(om0, 2 * sp.pi / P0), T:T0_expr.subs(om0, 2 * sp.pi / P0)})\n",
    "\n",
    "display(Math('%s = %s' %(sp.latex(P), sp.latex(P_expr_sub))))\n",
    "\n",
    "# Damping ratio\n",
    "\n",
    "print('Damping Ratio:')\n",
    "\n",
    "display(Math('%s = %s' %(sp.latex(zeta), sp.latex(zeta_expr))))\n",
    "\n",
    "zeta_expr_sub = zeta_expr.subs({k:k0_expr.subs(om0, 2 * sp.pi / P0), T:T0_expr.subs(om0, 2 * sp.pi / P0)})\n",
    "\n",
    "display(Math('%s = %s' %(sp.latex(zeta), sp.latex(zeta_expr_sub))))"
   ]
  },
  {
   "cell_type": "markdown",
   "metadata": {},
   "source": [
    "## Wind Factor"
   ]
  },
  {
   "cell_type": "code",
   "execution_count": null,
   "metadata": {
    "scrolled": false
   },
   "outputs": [],
   "source": [
    "alpW = sp.symbols('\\\\alpha_W')\n",
    "\n",
    "fW = sp.symbols('f_W')\n",
    "fW_expr = alpW**2 * sp.sin(lP) * sp.cos(lP) / sp.sqrt(1 - alpW**2 * sp.sin(lP)**2) + alpW * sp.sin(lP)\n",
    "display(Math('%s = %s' %(sp.latex(fW), sp.latex(fW_expr))))\n",
    "\n",
    "b_expr_fW = vA * kapP * fW\n",
    "display(Math('%s = %s = %s' %(sp.latex(b), sp.latex(b_expr_fW), sp.latex(b_expr_fW.subs(fW,fW_expr)))))\n"
   ]
  },
  {
   "cell_type": "markdown",
   "metadata": {},
   "source": [
    "## Ground Speed Based Control Law\n",
    "For *straight* paths, $\\kappa_P=0$"
   ]
  },
  {
   "cell_type": "code",
   "execution_count": null,
   "metadata": {},
   "outputs": [],
   "source": [
    "# ground speed based control law\n",
    "\n",
    "omP = sp.symbols('\\\\omega_P')\n",
    "\n",
    "d_etadot_d_eta_gsp_expr = -k/a + sp.pi/T + kapP * vW * sp.sin(lP) * (a - 1)\n",
    "d_etadot_d_beta_gsp_expr = a * ( b * (vGP - 2) - sp.pi / T ) + b + omP**2 * T / sp.pi * (1 - a)\n",
    "d_betadot_d_eta_gsp_expr = sp.pi / T / a\n",
    "d_betadot_d_beta_gsp_expr = b - sp.pi / T\n",
    "\n",
    "print('Jacobian:')\n",
    "display(Math('%s = %s' %(sp.latex(d_etadot_d_eta), sp.latex(d_etadot_d_eta_gsp_expr.subs({b:b_expr,a:a_expr})))))\n",
    "display(Math('%s = %s' %(sp.latex(d_etadot_d_beta), sp.latex(d_etadot_d_beta_gsp_expr.subs({b:b_expr,a:a_expr})))))\n",
    "display(Math('%s = %s' %(sp.latex(d_betadot_d_eta), sp.latex(d_betadot_d_eta_gsp_expr.subs({b:b_expr,a:a_expr})))))\n",
    "display(Math('%s = %s' %(sp.latex(d_betadot_d_beta), sp.latex(d_betadot_d_beta_gsp_expr.subs({b:b_expr,a:a_expr})))))\n",
    "\n",
    "print('Condensed Jacobian:')\n",
    "AMatrix_gsp_expr = sp.Matrix([[d_etadot_d_eta_gsp_expr, d_etadot_d_beta_gsp_expr], [d_betadot_d_eta_gsp_expr, d_betadot_d_beta_gsp_expr]])\n",
    "\n",
    "display(Math('%s = %s' %(sp.latex(AMatrix), sp.latex(AMatrix_gsp_expr))))\n",
    "\n",
    "# characteristic equation\n",
    "s_m_A_gsp = sp.Matrix([[s,0],[0,s]]) - AMatrix_gsp_expr\n",
    "char_eq_gsp = s_m_A_gsp.det()\n",
    "\n",
    "print('Characteristic equation:')\n",
    "# display(expand(char_eq_gsp))\n",
    "\n",
    "# collect coeffs -- straight paths\n",
    "char_eq_gsp_poly = sp.poly(char_eq_gsp, s)\n",
    "char_eq_gsp_coeffs = char_eq_gsp_poly.coeffs()\n",
    "\n",
    "display(Math('%s + (%s)s + (%s)' %(sp.latex(s**2),\n",
    "                                   sp.latex(sp.expand(char_eq_gsp_coeffs[1].subs({kapP:0, b:0, omP:0}))),\n",
    "                                   sp.latex(sp.expand(char_eq_gsp_coeffs[2].subs({kapP:0, b:0, omP:0}))))))\n",
    "\n",
    "# natural frequency\n",
    "print('Natural frequency:')\n",
    "omn = sp.symbols('\\\\omega_n')\n",
    "omn_gsp_expr = sp.sqrt(sp.expand(char_eq_gsp_coeffs[2].subs({kapP:0, b:0, omP:0})))\n",
    "display(Math('%s = %s' %(sp.latex(omn), sp.latex(omn_gsp_expr))))\n",
    "\n",
    "# damping ratio\n",
    "print('Damping ratio:')\n",
    "zeta = sp.symbols('\\\\zeta')\n",
    "zeta_gsp_expr = sp.simplify(sp.expand(char_eq_gsp_coeffs[1].subs({kapP:0, b:0, omP:0}) / 2 / omn_gsp_expr))\n",
    "display(Math('%s = %s' %(sp.latex(zeta), sp.latex(zeta_gsp_expr))))\n",
    "\n",
    "# nominal tuning\n",
    "print('At nominal tuning:')\n",
    "\n",
    "# period\n",
    "print('Period:')\n",
    "P_gsp_expr_sub = 2 * sp.pi / omn_gsp_expr.subs({k:k0_expr.subs(om0, 2 * sp.pi / P0), T:T0_expr.subs(om0, 2 * sp.pi / P0)})\n",
    "# modify... \n",
    "P_gsp_expr_sub = P0 * sp.sqrt(a)\n",
    "display(Math('%s = %s' %(sp.latex(P), sp.latex(P_gsp_expr_sub))))\n",
    "\n",
    "# damping ratio\n",
    "print('Damping ratio:')\n",
    "zeta_gsp_expr_sub = sp.simplify(zeta_gsp_expr.subs({k:k0_expr.subs(om0, 2 * sp.pi / P0), T:T0_expr.subs(om0, 2 * sp.pi / P0)}))\n",
    "# modify... \n",
    "zeta_gsp_expr_sub = zeta0 / sp.sqrt(a)\n",
    "display(Math('%s = %s' %(sp.latex(zeta), sp.latex(zeta_gsp_expr_sub))))"
   ]
  },
  {
   "cell_type": "markdown",
   "metadata": {},
   "source": [
    "# Numerical Evaluation\n",
    "\n",
    "## Check the Solutions..."
   ]
  },
  {
   "cell_type": "code",
   "execution_count": null,
   "metadata": {
    "scrolled": true
   },
   "outputs": [],
   "source": [
    "# helpful functions\n",
    "\n",
    "def evalb(kapP, lP, vA, vW):\n",
    "    xP = np.arcsin(vW/vA * np.sin(lP))\n",
    "    psiP = lP + xP\n",
    "    vGP = np.sqrt(vA**2 + vW**2 - 2*vA*vW*np.cos(np.pi - psiP))\n",
    "    return kapP * vGP * np.tan(xP)\n",
    "\n",
    "# Check the developed Jacobian\n",
    "\n",
    "def evalJac(k, T, kapP, lP, vA, vW):\n",
    "    \n",
    "    # n = 0\n",
    "    # b = 0\n",
    "    \n",
    "    xP = np.arcsin(vW/vA * np.sin(lP))\n",
    "    psiP = lP + xP\n",
    "    vGP = np.sqrt(vA**2 + vW**2 - 2*vA*vW*np.cos(np.pi - psiP))\n",
    "    \n",
    "    a11 = -k + np.pi/T\n",
    "    a12 = vGP**2 * kapP * np.tan(xP) / vA / np.cos(xP) - vGP / vA / np.cos(xP) * np.pi / T\n",
    "    a21 = np.pi / T * vA * np.cos(xP) / vGP\n",
    "    a22 = vGP * kapP * np.tan(xP) - np.pi / T\n",
    "\n",
    "    return np.array([a11, a12, a21, a22])\n",
    "\n",
    "\n",
    "def evalDyn(n, b, k, T, kapP, lP, vA, vW):\n",
    "    \n",
    "    ll = b + lP\n",
    "    \n",
    "    xl = np.arcsin(vW / vA * np.sin(ll))\n",
    "    \n",
    "    psi = b - n + lP + xl\n",
    "    \n",
    "    vG = np.sqrt(vA**2 + vW**2 - 2*vA*vW*np.cos(np.pi - psi))\n",
    "    \n",
    "    x = np.arccos((vA**2 - vW**2 + vG**2) / (2 * vA * vG))\n",
    "    \n",
    "    n_P = n - b + x - xl\n",
    "    \n",
    "    vGl = vW * np.cos(ll) + vA * np.cos(xl)\n",
    "    \n",
    "    e = -b * vG * T / np.pi\n",
    "    \n",
    "    omP = kapP * vG * np.cos(n_P) / (1 - kapP * e)\n",
    "    \n",
    "    psidot = k * np.sin(n) + vGl / vA / np.cos(xl) * omP\n",
    "    \n",
    "    vGdot = -vA*vW*np.sin(psi) / vG * psidot\n",
    "    \n",
    "    bdot = -b * vGdot / vG + np.pi / T * np.sin(n_P)\n",
    "   \n",
    "    ndot = -psidot + vGl / vA / np.cos(xl) * (bdot + omP)\n",
    "\n",
    "    return ndot, bdot\n",
    "\n",
    "\n",
    "def evalNumJac(n0, b0, k, T, kapP, lP, vA, vW):\n",
    "    \n",
    "    dn = 0.000001\n",
    "    db = 0.000001\n",
    "    twod = dn*2\n",
    "\n",
    "    dndot_dn_p, dbdot_dn_p = evalDyn(n0 + dn, b0, k, T, kapP, lP, vA, vW)\n",
    "    dndot_dn_m, dbdot_dn_m = evalDyn(n0 - dn, b0, k, T, kapP, lP, vA, vW)\n",
    "    dndot_db_p, dbdot_db_p = evalDyn(n0, b0 + db, k, T, kapP, lP, vA, vW)\n",
    "    dndot_db_m, dbdot_db_m = evalDyn(n0, b0 - db, k, T, kapP, lP, vA, vW)\n",
    "    \n",
    "    dndot_dn = (dndot_dn_p - dndot_dn_m) / twod\n",
    "    dndot_db = (dndot_db_p - dndot_db_m) / twod\n",
    "    dbdot_dn = (dbdot_dn_p - dbdot_dn_m) / twod\n",
    "    dbdot_db = (dbdot_db_p - dbdot_db_m) / twod\n",
    "    \n",
    "    return np.array([dndot_dn, dndot_db, dbdot_dn, dbdot_db])\n",
    "\n",
    "\n",
    "n1 = 0.0\n",
    "b1 = 0.0\n",
    "k1 = 0.11\n",
    "T1 = 7.0\n",
    "kapP1 = 1.0 / 50.0\n",
    "lP1 = 0.52\n",
    "vA1 = 15.0\n",
    "vW1 = 10.0\n",
    "\n",
    "ndot0, bdot0 = evalDyn(n1, b1, k1, T1, kapP1, lP1, vA1, vW1)\n",
    "jacAnalytic = evalJac(k1, T1, kapP1, lP1, vA1, vW1)\n",
    "jacNumerical = evalNumJac(n1, b1, k1, T1, kapP1, lP1, vA1, vW1)\n",
    "\n",
    "display('Equilibrium Diff. Eq.: ndot0 = %s, bdot0 = %s' %(ndot0,bdot0,))\n",
    "display('Numerical Jacobian: %s' %jacNumerical)\n",
    "display('Analytic Jacobian: %s' %jacAnalytic)"
   ]
  },
  {
   "cell_type": "markdown",
   "metadata": {},
   "source": [
    "## Evaluate Dynamics for Wind-Aware Control Law"
   ]
  },
  {
   "cell_type": "code",
   "execution_count": null,
   "metadata": {},
   "outputs": [],
   "source": [
    "len_lP = 301\n",
    "len_alpW = 11\n",
    "\n",
    "lP_data = np.linspace(-np.pi,np.pi,len_lP)\n",
    "alpW_data = np.linspace(0,1,len_alpW)\n",
    "\n",
    "fW_data = np.zeros([len_alpW, len_lP])\n",
    "b_data = np.zeros([len_alpW, len_lP])\n",
    "P_data = np.zeros([len_alpW, len_lP])\n",
    "zeta_data = np.zeros([len_alpW, len_lP])\n",
    "\n",
    "vA1 = 10\n",
    "kapP1 = 1/50\n",
    "P1 = 10\n",
    "zeta1 = 0.7071\n",
    "\n",
    "fW_eval =sp.lambdify((lP, alpW), fW_expr, 'numpy')\n",
    "b_eval = sp.lambdify((vA, kapP, fW), b_expr_fW, 'numpy')\n",
    "P_eval = sp.lambdify((b, P0, zeta0), P_expr_sub, 'numpy')\n",
    "zeta_eval = sp.lambdify((b, P0, zeta0), zeta_expr_sub, 'numpy')\n",
    "\n",
    "eps_pi_2 = 0.0001\n",
    "for i in range(len_alpW):\n",
    "    if alpW_data[i] == 1:\n",
    "        idx_sel_geq_pi_2 = lP_data >= np.pi/2 - eps_pi_2\n",
    "        fW_data[i, idx_sel_geq_pi_2] = np.nan\n",
    "        \n",
    "        idx_sel_leq_m_pi_2 = lP_data <= -np.pi/2 + eps_pi_2\n",
    "        fW_data[i, idx_sel_leq_m_pi_2] = np.nan\n",
    "        \n",
    "        idx_sel = np.all([~idx_sel_geq_pi_2, ~idx_sel_leq_m_pi_2],axis=0)\n",
    "        fW_data[i, idx_sel] = fW_eval(lP_data[idx_sel], alpW_data[i])\n",
    "    else:\n",
    "        fW_data[i,:] = fW_eval(lP_data, alpW_data[i])\n",
    "        \n",
    "    b_data[i,:] = b_eval(vA1, kapP1, fW_data[i,:])\n",
    "    P_data[i,:] = P_eval(b_data[i,:], P1, zeta1)\n",
    "    zeta_data[i, :] = zeta_eval(b_data[i,:], P1, zeta1)"
   ]
  },
  {
   "cell_type": "markdown",
   "metadata": {},
   "source": [
    "## Plot Period and Damping w.r.t. Wind Factor"
   ]
  },
  {
   "cell_type": "code",
   "execution_count": null,
   "metadata": {
    "scrolled": true
   },
   "outputs": [],
   "source": [
    "plot_lw = 2\n",
    "cmap = plt.cm.get_cmap('viridis', len_alpW)\n",
    "\n",
    "fig = plt.figure(figsize=(16,5))\n",
    "spec = gridspec.GridSpec(ncols=3, nrows=1, figure=fig)\n",
    "\n",
    "ax1 = fig.add_subplot(spec[:, 0])\n",
    "ax2 = fig.add_subplot(spec[:, 1])\n",
    "ax3 = fig.add_subplot(spec[:, 2])\n",
    "\n",
    "ax1.set_title(r'Period')\n",
    "ax1.set_xlabel(r'${\\lambda_P}$ [deg]')\n",
    "ax1.set_ylabel(r'$P$ [s]')\n",
    "for i in range(len_alpW):\n",
    "    ax1.plot(np.rad2deg(lP_data), P_data[i,:], linewidth=plot_lw, color=cmap(i))\n",
    "# ax1.annotate(r'$P_0$', xy=(-80, P1), xytext=(-100, P1+2), arrowprops=dict(arrowstyle=\"->\"), fontsize=14)\n",
    "\n",
    "ax2.set_title(r'Daming Ratio')\n",
    "ax2.set_xlabel(r'${\\lambda_P}$ [deg]')\n",
    "ax2.set_ylabel(r'$\\zeta$')\n",
    "for i in range(len_alpW):\n",
    "    ax2.plot(np.rad2deg(lP_data), zeta_data[i,:], linewidth=plot_lw, color=cmap(i))\n",
    "\n",
    "ax3.set_title(r'Wind Factor')\n",
    "ax3.set_xlabel(r'${\\lambda_P}$ [deg]')\n",
    "ax3.set_ylabel(r'$f_W$')\n",
    "for i in range(len_alpW):\n",
    "    ax3.plot(np.rad2deg(lP_data), fW_data[i,:], linewidth=plot_lw, color=cmap(i))\n",
    "ax3.set_xlim(np.rad2deg([lP_data[0], lP_data[-1]]))\n",
    "ax3.set_ylim([-2, 2])\n",
    "\n",
    "# plot dummy data to have stand alone colorbar\n",
    "dummy_array = np.array([[0,1]])\n",
    "dummy_plot = ax3.imshow(dummy_array, cmap='viridis')\n",
    "dummy_plot.set_visible(False)\n",
    "fig.colorbar(dummy_plot, ax=ax3, label=r'$\\alpha_W$')\n",
    "\n",
    "ax3.set_aspect('auto')\n",
    "    \n",
    "print('Wind-Aware Control Law (for an arbitrary curvature in wind)')\n",
    "plt.show()"
   ]
  },
  {
   "cell_type": "markdown",
   "metadata": {},
   "source": [
    "## Evaluate Dynamics for Ground Speed Based Control Law"
   ]
  },
  {
   "cell_type": "code",
   "execution_count": null,
   "metadata": {},
   "outputs": [],
   "source": [
    "len_lP = 301\n",
    "len_alpW = 11\n",
    "\n",
    "lP_data = np.linspace(-np.pi,np.pi,len_lP)\n",
    "alpW_data = np.linspace(0,1,len_alpW)\n",
    "\n",
    "a_data = np.zeros([len_alpW, len_lP])\n",
    "P_gsp_data = np.zeros([len_alpW, len_lP])\n",
    "zeta_gsp_data = np.zeros([len_alpW, len_lP])\n",
    "\n",
    "vA1 = 10\n",
    "kapP1 = 1/50\n",
    "P1 = 10\n",
    "zeta1 = 0.7071\n",
    "\n",
    "a_expr_expanded = alpW * sp.cos(lP) / sp.sqrt(1 - alpW**2 * sp.sin(lP)**2) + 1\n",
    "a_eval = sp.lambdify((alpW, lP), a_expr_expanded, 'numpy')\n",
    "P_gsp_eval = sp.lambdify((P0, a), P_gsp_expr_sub, 'numpy')\n",
    "zeta_gsp_eval = sp.lambdify((zeta0, a), zeta_gsp_expr_sub, 'numpy')\n",
    "\n",
    "eps_alpW = (alpW_data[1] - alpW_data[0]) / 2\n",
    "eps_lP = (lP_data[1] - lP_data[0]) / 2\n",
    "for i in range(len_alpW):\n",
    "    if alpW_data[i]  > 1 - eps_alpW:\n",
    "        idx_sel = np.any([np.all([lP_data > (np.pi/2 - eps_lP),lP_data < (np.pi/2 + eps_lP)],axis=0),\n",
    "                          np.all([lP_data > (-np.pi/2 - eps_lP),lP_data < (-np.pi/2 + eps_lP)],axis=0)], axis=0)\n",
    "        a_data[i, idx_sel] = np.nan\n",
    "\n",
    "        inv_idx_sel = ~idx_sel\n",
    "        a_data[i, inv_idx_sel] = a_eval(alpW_data[i], lP_data[inv_idx_sel])\n",
    "    else:\n",
    "        a_data[i,:] = a_eval(alpW_data[i], lP_data)\n",
    "    \n",
    "    idx_neg_a = a_data[i,:] < 0\n",
    "    a_data[i,idx_neg_a] = 0\n",
    "    \n",
    "    inv_idx_neg_a = ~idx_neg_a\n",
    "    P_gsp_data[i,inv_idx_neg_a] = P_gsp_eval(P1, a_data[i,inv_idx_neg_a])\n",
    "    P_gsp_data[i,idx_neg_a] = 0\n",
    "    \n",
    "    idx_zeta_sel = a_data[i,:] < eps_alpW\n",
    "    inv_idx_zeta_sel = ~idx_zeta_sel\n",
    "    zeta_gsp_data[i,inv_idx_zeta_sel] = zeta_gsp_eval(zeta1, a_data[i,inv_idx_zeta_sel])\n",
    "    zeta_gsp_data[i,idx_zeta_sel] = np.nan"
   ]
  },
  {
   "cell_type": "markdown",
   "metadata": {},
   "source": [
    "## Plot Period and Damping w.r.t. Speed Ratio"
   ]
  },
  {
   "cell_type": "code",
   "execution_count": null,
   "metadata": {},
   "outputs": [],
   "source": [
    "plot_lw = 2\n",
    "cmap = plt.cm.get_cmap('viridis', len_alpW)\n",
    "\n",
    "fig = plt.figure(figsize=(16,5))\n",
    "spec = gridspec.GridSpec(ncols=3, nrows=1, figure=fig)\n",
    "\n",
    "ax1 = fig.add_subplot(spec[:, 0])\n",
    "ax2 = fig.add_subplot(spec[:, 1])\n",
    "ax3 = fig.add_subplot(spec[:, 2])\n",
    "\n",
    "ax1.set_title(r'Period')\n",
    "ax1.set_xlabel(r'${\\lambda_P}$ [deg]')\n",
    "ax1.set_ylabel(r'$P$ [s]')\n",
    "for i in range(len_alpW):\n",
    "    ax1.plot(np.rad2deg(lP_data), P_gsp_data[i,:], linewidth=plot_lw, color=cmap(i))\n",
    "\n",
    "ax2.set_title(r'Daming Ratio')\n",
    "ax2.set_xlabel(r'${\\lambda_P}$ [deg]')\n",
    "ax2.set_ylabel(r'$\\zeta$')\n",
    "for i in range(len_alpW):\n",
    "    ax2.plot(np.rad2deg(lP_data), zeta_gsp_data[i,:], linewidth=plot_lw, color=cmap(i))\n",
    "\n",
    "ax3.set_title(r'Speed Ratio')\n",
    "ax3.set_xlabel(r'${\\lambda_P}$ [deg]')\n",
    "ax3.set_ylabel(r'$a$')\n",
    "for i in range(len_alpW):\n",
    "    ax3.plot(np.rad2deg(lP_data), a_data[i,:], linewidth=plot_lw, color=cmap(i))\n",
    "ax3.set_xlim(np.rad2deg([lP_data[0], lP_data[-1]]))\n",
    "ax3.set_ylim([-0.1, 2.1])\n",
    "\n",
    "# plot dummy data to have stand alone colorbar\n",
    "dummy_array = np.array([[0,1]])\n",
    "dummy_plot = ax3.imshow(dummy_array, cmap='viridis')\n",
    "dummy_plot.set_visible(False)\n",
    "fig.colorbar(dummy_plot, ax=ax3, label=r'$\\alpha_W$')\n",
    "\n",
    "ax3.set_aspect('auto')\n",
    "\n",
    "print('Ground Speed Based Control Law for Straight Paths')\n",
    "plt.show()"
   ]
  }
 ],
 "metadata": {
  "kernelspec": {
   "display_name": "Python 3",
   "language": "python",
   "name": "python3"
  },
  "language_info": {
   "codemirror_mode": {
    "name": "ipython",
    "version": 3
   },
   "file_extension": ".py",
   "mimetype": "text/x-python",
   "name": "python",
   "nbconvert_exporter": "python",
   "pygments_lexer": "ipython3",
   "version": "3.8.5"
  }
 },
 "nbformat": 4,
 "nbformat_minor": 4
}
